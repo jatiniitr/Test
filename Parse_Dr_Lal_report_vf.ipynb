{
  "nbformat": 4,
  "nbformat_minor": 0,
  "metadata": {
    "colab": {
      "name": "Parse Dr Lal report_vf.ipynb",
      "provenance": [],
      "collapsed_sections": [],
      "mount_file_id": "1MugPzXn7OUPMtNSOsTJHWrbSYYP_csE-",
      "authorship_tag": "ABX9TyNQiMmCEinNNcnYflg9fHre",
      "include_colab_link": true
    },
    "kernelspec": {
      "name": "python3",
      "display_name": "Python 3"
    },
    "language_info": {
      "name": "python"
    }
  },
  "cells": [
    {
      "cell_type": "markdown",
      "metadata": {
        "id": "view-in-github",
        "colab_type": "text"
      },
      "source": [
        "<a href=\"https://colab.research.google.com/github/jatiniitr/Test/blob/master/Parse_Dr_Lal_report_vf.ipynb\" target=\"_parent\"><img src=\"https://colab.research.google.com/assets/colab-badge.svg\" alt=\"Open In Colab\"/></a>"
      ]
    },
    {
      "cell_type": "code",
      "source": [
        "path=\"./drive/MyDrive/5. Medical/Body_checkups/\"\n",
        "test_list=[\"202205_Ambika_Dixit\",\n",
        "           \"202201_Jatin_Dixit\",\n",
        "           \"202201_Ashok_Dixit\",\n",
        "           \"202107_Ashok_Dixit\",\n",
        "           \"202107_Arpita_Dixit\",\n",
        "           \"202105_Jatin_Dixit\",\n",
        "           \"202105_Ashok_Dixit\",\n",
        "           \"202105_Arpita_Dixit\",\n",
        "           \"202105_Ambika_Dixit\"]\n",
        "\n",
        "\n",
        "# Import the required Module\n",
        "!pip install tabula-py\n",
        "import pandas as pd\n",
        "import tabula\n",
        "# Read a PDF File\n"
      ],
      "metadata": {
        "colab": {
          "base_uri": "https://localhost:8080/"
        },
        "id": "-BXW247Qtqzo",
        "outputId": "ceb648bc-1949-4405-bd6a-855f4da73482"
      },
      "execution_count": 6,
      "outputs": [
        {
          "output_type": "stream",
          "name": "stdout",
          "text": [
            "Looking in indexes: https://pypi.org/simple, https://us-python.pkg.dev/colab-wheels/public/simple/\n",
            "Requirement already satisfied: tabula-py in /usr/local/lib/python3.7/dist-packages (2.4.0)\n",
            "Requirement already satisfied: distro in /usr/local/lib/python3.7/dist-packages (from tabula-py) (1.7.0)\n",
            "Requirement already satisfied: numpy in /usr/local/lib/python3.7/dist-packages (from tabula-py) (1.21.6)\n",
            "Requirement already satisfied: pandas>=0.25.3 in /usr/local/lib/python3.7/dist-packages (from tabula-py) (1.3.5)\n",
            "Requirement already satisfied: pytz>=2017.3 in /usr/local/lib/python3.7/dist-packages (from pandas>=0.25.3->tabula-py) (2022.1)\n",
            "Requirement already satisfied: python-dateutil>=2.7.3 in /usr/local/lib/python3.7/dist-packages (from pandas>=0.25.3->tabula-py) (2.8.2)\n",
            "Requirement already satisfied: six>=1.5 in /usr/local/lib/python3.7/dist-packages (from python-dateutil>=2.7.3->pandas>=0.25.3->tabula-py) (1.15.0)\n"
          ]
        }
      ]
    },
    {
      "cell_type": "code",
      "source": [
        "def parse_lal_pathlab(path,file):\n",
        "  df=tabula.read_pdf(path+file+\".pdf\", pages='all',pandas_options={'header': None},encoding='ISO-8859-1',stream=True,area=[25,0,90,95],relative_area=True,columns=[250,350,450])\n",
        "  df_clean=[]\n",
        "  for i,v in enumerate(df):\n",
        "    df1=v.dropna(subset=[1,2]).loc[pd.to_numeric(v[1], errors='coerce').notnull()]\n",
        "    df1[\"page\"]=i+1\n",
        "    df_clean.append(df1)\n",
        "    \n",
        "  output=pd.concat(df_clean)\n",
        "  output.columns=[\"Test Name\",\"Results\",\"Units\",\"Ref. interval\",\"page\"]\n",
        "  output[\"file\"]=file\n",
        "  #output.to_csv(path+file+\".csv\")\n",
        "  return output\n",
        "\n",
        "output_list=[]  \n",
        "for i in test_list:\n",
        "  output_list.append(parse_lal_pathlab(path,i))\n",
        "  output=pd.concat(output_list)\n",
        "output.to_csv(path+\"output.csv\")"
      ],
      "metadata": {
        "colab": {
          "base_uri": "https://localhost:8080/"
        },
        "id": "T9H177MQH-Zx",
        "outputId": "e2639c0d-bc4d-4277-eb56-eda8cee922bc"
      },
      "execution_count": 7,
      "outputs": [
        {
          "output_type": "stream",
          "name": "stderr",
          "text": [
            "Got stderr: Jun 14, 2022 6:11:06 PM org.apache.pdfbox.pdmodel.font.PDTrueTypeFont <init>\n",
            "WARNING: Using fallback font 'LiberationSans' for 'Verdana'\n",
            "\n",
            "Got stderr: Jun 14, 2022 6:11:09 PM org.apache.pdfbox.pdmodel.font.PDTrueTypeFont <init>\n",
            "WARNING: Using fallback font 'LiberationSans' for 'Verdana'\n",
            "\n",
            "Got stderr: Jun 14, 2022 6:11:12 PM org.apache.pdfbox.pdmodel.font.PDTrueTypeFont <init>\n",
            "WARNING: Using fallback font 'LiberationSans' for 'Verdana'\n",
            "\n",
            "Got stderr: Jun 14, 2022 6:11:16 PM org.apache.pdfbox.pdmodel.font.PDTrueTypeFont <init>\n",
            "WARNING: Using fallback font 'LiberationSans' for 'Verdana'\n",
            "\n",
            "Got stderr: Jun 14, 2022 6:11:19 PM org.apache.pdfbox.pdmodel.font.PDTrueTypeFont <init>\n",
            "WARNING: Using fallback font 'LiberationSans' for 'Verdana'\n",
            "\n",
            "Got stderr: Jun 14, 2022 6:11:22 PM org.apache.pdfbox.pdmodel.font.PDTrueTypeFont <init>\n",
            "WARNING: Using fallback font 'LiberationSans' for 'Verdana'\n",
            "\n",
            "Got stderr: Jun 14, 2022 6:11:26 PM org.apache.pdfbox.pdmodel.font.PDTrueTypeFont <init>\n",
            "WARNING: Using fallback font 'LiberationSans' for 'Verdana'\n",
            "\n",
            "Got stderr: Jun 14, 2022 6:11:31 PM org.apache.pdfbox.pdmodel.font.PDTrueTypeFont <init>\n",
            "WARNING: Using fallback font 'LiberationSans' for 'Verdana'\n",
            "\n",
            "Got stderr: Jun 14, 2022 6:11:33 PM org.apache.pdfbox.pdmodel.font.PDTrueTypeFont <init>\n",
            "WARNING: Using fallback font 'LiberationSans' for 'Verdana'\n",
            "\n"
          ]
        }
      ]
    },
    {
      "cell_type": "code",
      "source": [
        ""
      ],
      "metadata": {
        "id": "lWvU1F-bRVCU"
      },
      "execution_count": null,
      "outputs": []
    }
  ]
}